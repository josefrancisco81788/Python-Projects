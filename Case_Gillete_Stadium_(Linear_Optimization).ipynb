{
  "nbformat": 4,
  "nbformat_minor": 0,
  "metadata": {
    "colab": {
      "provenance": [],
      "authorship_tag": "ABX9TyPItbf25K2dSvrCp3uz62VE",
      "include_colab_link": true
    },
    "kernelspec": {
      "name": "python3",
      "display_name": "Python 3"
    },
    "language_info": {
      "name": "python"
    }
  },
  "cells": [
    {
      "cell_type": "markdown",
      "metadata": {
        "id": "view-in-github",
        "colab_type": "text"
      },
      "source": [
        "<a href=\"https://colab.research.google.com/github/josefrancisco81788/Python-Projects/blob/main/Case_Gillete_Stadium_(Linear_Optimization).ipynb\" target=\"_parent\"><img src=\"https://colab.research.google.com/assets/colab-badge.svg\" alt=\"Open In Colab\"/></a>"
      ]
    },
    {
      "cell_type": "markdown",
      "source": [
        "# Gillete Stadium\n",
        "\n",
        "The New England Patriots are a professional American football team based in the Greater\n",
        "Boston area. Their home games are played at Gillette Stadium in the town of\n",
        "Foxborough, Massachusetts. The seating capacity of Gillette Stadium is 60,000 (not\n",
        "including club and luxury seats). The Patriots play ten (10) games at Gillette Stadium\n",
        "during the season and fans have two options to get tickets:\n",
        "• Season Passes: Every season pass grants the holder access to two seats on every home\n",
        "game for one season. Season passes are sold a few months before the start of the season.\n",
        "Based on historical data, the forecasted demand for season passes is\n",
        "\n",
        "DS = 20,000 - 5 PS,\n",
        "\n",
        "where PS is the price of a pass and DS is the number of season passes that could be\n",
        "sold.\n",
        "• Game Tickets: A game ticket grants the holder access to one seat in a single specific\n",
        "game. Game tickets are sold throughout the season before each game. For each game,\n",
        "the forecasted demand for game tickets is\n",
        "\n",
        "DG = 100,000 - 200 PG,\n",
        "\n",
        "where PG is the price of a ticket and DG is the number of game tickets that could be\n",
        "sold.\n",
        "\n",
        "a) What are the optimal prices that should be charged for each type of ticket.\n",
        "What are the revenues that the Patriots will make during the entire season? What is the marginal value of an extra unit of capacity (i.e., an extra seat on the stadium) over the entire season?\n",
        "\n",
        "b) Do you see any problem in trying to implement the pricing strategy derived in\n",
        "part (a)? If so, how would you tackle this problem? Explain. If needed, propose an alternative pricing scheme that is more acceptable to implement."
      ],
      "metadata": {
        "id": "zYoVmax3LmK0"
      }
    },
    {
      "cell_type": "markdown",
      "source": [
        "# Installation of Pyomo and Ipopt (via Conda)"
      ],
      "metadata": {
        "id": "555jRawtz0Nr"
      }
    },
    {
      "cell_type": "code",
      "source": [
        "# Install Pyomo and necessary libraries\n",
        "!pip install -q pyomo numpy scipy matplotlib\n",
        "\n",
        "# Install conda (to manage dependencies)\n",
        "!pip install -q condacolab\n",
        "import condacolab\n",
        "condacolab.install()\n",
        "\n",
        "# Use conda to install Ipopt solver\n",
        "!conda install -c conda-forge ipopt coincbc\n",
        "\n",
        "# Add Ipopt executable to PATH (modify the path if needed)\n",
        "import os\n",
        "os.environ[\"PATH\"] += os.pathsep + '/usr/local/bin'"
      ],
      "metadata": {
        "id": "_Slm2ghhMKRG"
      },
      "execution_count": null,
      "outputs": []
    },
    {
      "cell_type": "markdown",
      "source": [
        "# Import Libraries"
      ],
      "metadata": {
        "id": "TpGGAojzz5JU"
      }
    },
    {
      "cell_type": "code",
      "source": [
        "# Import required libraries from Pyomo\n",
        "from pyomo.environ import *\n",
        "\n",
        "# Create a SolverFactory instance for Ipopt\n",
        "opt = SolverFactory('ipopt')\n",
        "\n",
        "# Check if Ipopt is available\n",
        "assert opt.available(exception_flag=False), \"Ipopt solver is not available.\""
      ],
      "metadata": {
        "id": "SfbPCIdDyLmJ"
      },
      "execution_count": 2,
      "outputs": []
    },
    {
      "cell_type": "markdown",
      "source": [
        "# Model Creation"
      ],
      "metadata": {
        "id": "IQ4R4s3q0K77"
      }
    },
    {
      "cell_type": "code",
      "source": [
        "# Define inverse demand function\n",
        "def inverse_demand(D, m, quantity):\n",
        "    price = (D - quantity) / m\n",
        "    return price\n",
        "\n",
        "# Create the optimization model\n",
        "model = ConcreteModel()\n",
        "\n",
        "# Include dual solution in the output\n",
        "model.dual = Suffix(direction=Suffix.IMPORT)\n",
        "\n",
        "# Define decision variables\n",
        "model.qS = Var(within=NonNegativeReals)  # Demand for Season Passes\n",
        "model.qG = Var(within=NonNegativeReals)  # Demand for Game Tickets\n",
        "\n",
        "# Constants for demand functions\n",
        "Ds = 20000  # Number of season passes that could be sold.\n",
        "Dg = 100000  # Number of game tickets that could be sold.\n",
        "Ps = 5  # Price of a pass\n",
        "Pg = 200  # Price of a ticket\n",
        "\n",
        "# Define objective function (to maximize revenue)\n",
        "model.obj = Objective(\n",
        "    expr=model.qS * inverse_demand(Ds, Ps, model.qS) + model.qG * inverse_demand(Dg, Pg, model.qG),\n",
        "    sense=maximize\n",
        ")\n",
        "\n",
        "# Capacity constraint (seating capacity of Gillette Stadium)\n",
        "capacity_available = 60000\n",
        "model.capacity = Constraint(expr=2 * model.qS + model.qG <= capacity_available)\n",
        "\n",
        "# Solve the model\n",
        "results = opt.solve(model, tee=False)\n",
        "\n",
        "# Compute marginal revenues\n",
        "marginal_rev_S = (Ds - 2 * value(model.qS)) / Ps\n",
        "marginal_rev_G = (Dg - 2 * value(model.qG)) / Pg\n",
        "\n",
        "# Output results\n",
        "print(\"Preliminary Values:\")\n",
        "print(\"Ds Value:\", Ds)\n",
        "print(\"qS Value:\", value(model.qS))\n",
        "print(\"Ps Value:\", Ps)\n",
        "print()\n",
        "print(\"Marginal Revenue Season Passes:\", marginal_rev_S)\n",
        "print(\"Dg Value:\", Dg)\n",
        "print(\"qG Value:\", value(model.qG))\n",
        "print(\"Pg Value:\", Pg)\n",
        "print(\"Marginal Revenue Game Tickets:\", marginal_rev_G)\n",
        "print(\"Capacity:\", model.dual[model.capacity])\n",
        "print()\n",
        "print(\"SOLUTION:\")\n",
        "print('Optimal Revenue:', value(model.obj))\n",
        "print('Optimal Quantity Season Passes:', value(model.qS))\n",
        "print('Optimal Quantity Game Tickets:', value(model.qG))\n",
        "print('Optimal Price Season Passes:', inverse_demand(Ds, Ps, value(model.qS)))\n",
        "print('Optimal Price Game Tickets:', inverse_demand(Dg, Pg, value(model.qG)))\n",
        "print()\n",
        "print(\"MARGINAL REVENUES:\")\n",
        "print('MR(qS):', marginal_rev_S)\n",
        "print('MR(qG):', marginal_rev_G)\n",
        "print()\n",
        "print('LAGRANGE MULTIPLIER:')\n",
        "print('Capacity:', model.dual[model.capacity])\n"
      ],
      "metadata": {
        "colab": {
          "base_uri": "https://localhost:8080/"
        },
        "id": "-oOy3IgauPgG",
        "outputId": "fca5c763-0e55-49f0-dc20-ee8aa8afccc6"
      },
      "execution_count": 9,
      "outputs": [
        {
          "output_type": "stream",
          "name": "stdout",
          "text": [
            "Preliminary Values:\n",
            "Ds Value: 20000\n",
            "qS Value: 9545.454549999966\n",
            "Ps Value: 5\n",
            "\n",
            "Marginal Revenue Season Passes: 181.81818000001368\n",
            "Dg Value: 100000\n",
            "qG Value: 40909.09099999897\n",
            "Pg Value: 200\n",
            "Marginal Revenue Game Tickets: 90.90909000001032\n",
            "Capacity: 90.90909000001179\n",
            "\n",
            "SOLUTION:\n",
            "Optimal Revenue: 32045454.554545358\n",
            "Optimal Quantity Season Passes: 9545.454549999966\n",
            "Optimal Quantity Game Tickets: 40909.09099999897\n",
            "Optimal Price Season Passes: 2090.909090000007\n",
            "Optimal Price Game Tickets: 295.45454500000517\n",
            "\n",
            "MARGINAL REVENUES:\n",
            "MR(qS): 181.81818000001368\n",
            "MR(qG): 90.90909000001032\n",
            "\n",
            "LAGRANGE MULTIPLIER:\n",
            "Capacity: 90.90909000001179\n"
          ]
        }
      ]
    },
    {
      "cell_type": "markdown",
      "source": [
        "a) **Optimal Pricing Strategy and Revenue Analysis**\n",
        "\n",
        "Optimal Prices and Revenue: The results suggest optimal prices of approximately USD 2,090.91 for a season pass and USD 295.45 for a game ticket. These prices maximize total revenue for the season at USD 32,045,454.55.\n",
        "\n",
        "Capacity Utilization and Marginal Value:\n",
        "\n",
        "Season Passes (qS): 9,545 passes sold, granting access to 19,090 seats (2 per pass per game).\n",
        "Game Tickets (qG): 40,909 individual tickets sold.\n",
        "Total Seats Sold:\n",
        "19,090 + 40,909 = 60,000 seats, fully utilizing the stadium capacity for 10 games.\n",
        "\n",
        "Marginal Value of Extra Capacity: The Lagrange multiplier (90.91) indicates the additional revenue generated by adding one more seat to the stadium. This figure helps gauge the profitability of future capacity expansions.\n",
        "\n",
        "b) **Potential Issues and Recommendations**\n",
        "\n",
        "Problem with Current Strategy: The current strategy sets uniform prices for both season passes and game tickets. However, demand elasticity might differ significantly between regular and high-demand games, leading to suboptimal pricing across different games. Fans may perceive the season pass price as too high relative to the game ticket, potentially affecting sales.\n",
        "\n",
        "Alternative Pricing Scheme:\n",
        "\n",
        "Dynamic Ticket Pricing: Adjust game ticket prices based on demand, opponent strength, day of the week, or time of purchase.\n",
        "\n",
        "Tiered Season Pass Pricing: Offer different tiers of season passes (e.g., premium seating, early purchase discounts) to appeal to various customer segments.\n",
        "\n",
        "Bundling Discounts: Provide bundled discounts for buying multiple game tickets or passes, encouraging higher upfront sales.\n",
        "\n",
        "By refining the pricing strategy to reflect demand fluctuations and customer preferences, the Patriots can better optimize revenues and maintain strong customer satisfaction."
      ],
      "metadata": {
        "id": "tAbhl2Gn1DVn"
      }
    }
  ]
}